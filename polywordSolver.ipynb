{
 "cells": [
  {
   "cell_type": "code",
   "execution_count": 207,
   "metadata": {},
   "outputs": [],
   "source": [
    "with open('words_alpha.txt') as words_text:\n",
    "    all_words = list(words_text.read().split())\n",
    "    "
   ]
  },
  {
   "cell_type": "code",
   "execution_count": 208,
   "metadata": {},
   "outputs": [],
   "source": [
    "def wordSolver(letters,keyLetter):\n",
    "    solutions = []\n",
    "    for i in all_words:\n",
    "        if(checkWord(i,letters,keyLetter)):\n",
    "            solutions.append(i)\n",
    "    print(solutions)\n",
    "    \n",
    "def checkWord(word,letters,keyLetter):\n",
    "    l = list(letters)\n",
    "    w = list(word)\n",
    "    if keyLetter not in w or len(w) < 4:\n",
    "        return False\n",
    "    for j in w:\n",
    "        if j not in l:\n",
    "            return False\n",
    "        else:\n",
    "            l.remove(j)\n",
    "    return True"
   ]
  },
  {
   "cell_type": "code",
   "execution_count": null,
   "metadata": {},
   "outputs": [],
   "source": [
    "letters = input('What letters are available?:')\n",
    "key = input('What is the central letter?:')\n",
    "wordSolver(letters,key)"
   ]
  }
 ],
 "metadata": {
  "kernelspec": {
   "display_name": "Python 3",
   "language": "python",
   "name": "python3"
  },
  "language_info": {
   "codemirror_mode": {
    "name": "ipython",
    "version": 3
   },
   "file_extension": ".py",
   "mimetype": "text/x-python",
   "name": "python",
   "nbconvert_exporter": "python",
   "pygments_lexer": "ipython3",
   "version": "3.7.4"
  }
 },
 "nbformat": 4,
 "nbformat_minor": 2
}
