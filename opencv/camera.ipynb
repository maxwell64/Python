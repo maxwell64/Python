{
 "cells": [
  {
   "cell_type": "code",
   "execution_count": 1,
   "id": "4d1233be-44f7-49f3-806b-00036e6b8c41",
   "metadata": {},
   "outputs": [],
   "source": [
    "import cv2"
   ]
  },
  {
   "cell_type": "code",
   "execution_count": 3,
   "id": "b8e34cbe-0654-46b7-a577-66f4dd84d192",
   "metadata": {},
   "outputs": [],
   "source": [
    "face_classifier = cv2.CascadeClassifier(\n",
    "    cv2.data.haarcascades + \"haarcascade_frontalface_default.xml\"\n",
    ")\n",
    "\n",
    "eye_classifier = cv2.CascadeClassifier(\n",
    "    cv2.data.haarcascades + \"haarcascade_eye.xml\"\n",
    ")\n",
    "\n",
    "cam = cv2.VideoCapture(0)\n",
    "cam.set(cv2.CAP_PROP_FOURCC, cv2.VideoWriter_fourcc('M', 'J', 'P', 'G'))\n",
    "assert cam.isOpened()\n",
    "\n",
    "while(True):\n",
    "    ret, frame = cam.read()\n",
    "\n",
    "    grey_frame = cv2.cvtColor(frame, cv2.COLOR_BGR2GRAY)\n",
    "\n",
    "    face = face_classifier.detectMultiScale(\n",
    "        grey_frame, scaleFactor=1.1, minNeighbors=5, minSize=(40, 40)\n",
    "    )\n",
    "\n",
    "    for (x, y, w, h) in face:\n",
    "        cv2.rectangle(frame, (x, y), (x + w, y + h), (0, 255, 0), 2)\n",
    "\n",
    "    eyes = eye_classifier.detectMultiScale(\n",
    "        grey_frame, scaleFactor=1.1, minNeighbors=5, minSize=(40, 40)\n",
    "    )\n",
    "\n",
    "    for (x, y, w, h) in eyes:\n",
    "        cv2.rectangle(frame, (x, y), (x + w, y + h), (255, 0, 0), 2)\n",
    "\n",
    "    cv2.imshow('frame', frame)\n",
    "    if cv2.waitKey(1) & 0xFF == ord('q'):\n",
    "        break\n",
    "\n",
    "cam.release()\n",
    "cv2.destroyAllWindows()"
   ]
  },
  {
   "cell_type": "code",
   "execution_count": null,
   "id": "10530773-3ba4-4d26-ac4e-627b0308229f",
   "metadata": {},
   "outputs": [],
   "source": []
  }
 ],
 "metadata": {
  "kernelspec": {
   "display_name": "Python 3 (ipykernel)",
   "language": "python",
   "name": "python3"
  },
  "language_info": {
   "codemirror_mode": {
    "name": "ipython",
    "version": 3
   },
   "file_extension": ".py",
   "mimetype": "text/x-python",
   "name": "python",
   "nbconvert_exporter": "python",
   "pygments_lexer": "ipython3",
   "version": "3.10.12"
  }
 },
 "nbformat": 4,
 "nbformat_minor": 5
}
