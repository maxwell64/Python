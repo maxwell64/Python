{
 "cells": [
  {
   "cell_type": "code",
   "execution_count": 1,
   "metadata": {},
   "outputs": [],
   "source": [
    "import requests\n",
    "import datetime\n",
    "\n",
    "url = 'https://uk.finance.yahoo.com/quote/GOOG?p=GOOG&.tsrc=fin-srch'\n",
    "indicators  = ['Previous close', 'Open', 'Bid', 'Ask', 'Market cap']\n",
    "f = open('/home/maxwell/Documents/pythonStuff/web_scraper/GOOG.txt', 'a')"
   ]
  },
  {
   "cell_type": "code",
   "execution_count": 2,
   "metadata": {},
   "outputs": [],
   "source": [
    "#import the response from the page\n",
    "response = requests.get(url)"
   ]
  },
  {
   "cell_type": "code",
   "execution_count": 3,
   "metadata": {},
   "outputs": [],
   "source": [
    "#define the html text from the page\n",
    "html_text = response.text"
   ]
  },
  {
   "cell_type": "code",
   "execution_count": 4,
   "metadata": {},
   "outputs": [
    {
     "name": "stdout",
     "output_type": "stream",
     "text": [
      "2020-03-10 16:11:00.884011\n",
      "Previous close : $1,215.56\n",
      "\n",
      "Open : $1,260.00\n",
      "\n",
      "Bid : $1,225.48 x 1100\n",
      "\n",
      "Ask : $1,228.82 x 1300\n",
      "\n",
      "Market cap : $848.579B\n",
      "\n"
     ]
    }
   ],
   "source": [
    "#prints the date and time for reference/comparison\n",
    "print(datetime.datetime.today())\n",
    "s = '\\n{}\\n'.format(datetime.datetime.today())\n",
    "f.write(s)\n",
    "\n",
    "#cycles through the indicators and acquires the data for each\n",
    "for i in indicators:\n",
    "    split_text = html_text.split(i)\n",
    "    split2 = split_text[1].split('\">')\n",
    "    split3 = split2[2].split('</span>')\n",
    "    data = split3[0]\n",
    "    s = '{} : ${}\\n'.format(i, data)\n",
    "    print(s)\n",
    "    f.write(s)\n",
    "    \n",
    "f.close()"
   ]
  },
  {
   "cell_type": "code",
   "execution_count": null,
   "metadata": {},
   "outputs": [],
   "source": []
  }
 ],
 "metadata": {
  "kernelspec": {
   "display_name": "Python 3",
   "language": "python",
   "name": "python3"
  },
  "language_info": {
   "codemirror_mode": {
    "name": "ipython",
    "version": 3
   },
   "file_extension": ".py",
   "mimetype": "text/x-python",
   "name": "python",
   "nbconvert_exporter": "python",
   "pygments_lexer": "ipython3",
   "version": "3.7.4"
  }
 },
 "nbformat": 4,
 "nbformat_minor": 2
}
