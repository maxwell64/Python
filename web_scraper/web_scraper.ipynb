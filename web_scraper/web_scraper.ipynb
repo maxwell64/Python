{
 "cells": [
  {
   "cell_type": "code",
   "execution_count": 67,
   "metadata": {},
   "outputs": [],
   "source": [
    "import requests\n",
    "\n",
    "url = 'https://uk.finance.yahoo.com/quote/GOOG?p=GOOG&.tsrc=fin-srch'\n",
    "indicators  = ['Previous close', 'Open', 'Bid', 'Ask', 'Market cap']"
   ]
  },
  {
   "cell_type": "code",
   "execution_count": 68,
   "metadata": {},
   "outputs": [],
   "source": [
    "#import the response from the page\n",
    "response = requests.get(url)"
   ]
  },
  {
   "cell_type": "code",
   "execution_count": 69,
   "metadata": {},
   "outputs": [],
   "source": [
    "#define the html text from the page\n",
    "html_text = response.text"
   ]
  },
  {
   "cell_type": "code",
   "execution_count": 70,
   "metadata": {},
   "outputs": [
    {
     "name": "stdout",
     "output_type": "stream",
     "text": [
      "Previous close : $ 1,298.41\n",
      "Open : $ 1,277.06\n",
      "Bid : $ 1,231.09 x 1100\n",
      "Ask : $ 1,233.28 x 1200\n",
      "Market cap : $ 845.942B\n"
     ]
    }
   ],
   "source": [
    "#cycles through the indicators and acquires the data for each\n",
    "for i in indicators:\n",
    "    split_text = html_text.split(i)\n",
    "    split2 = split_text[1].split('\">')\n",
    "    split3 = split2[2].split('</span>')\n",
    "    data = split3[0]\n",
    "    print(i, ': $', data)"
   ]
  },
  {
   "cell_type": "code",
   "execution_count": null,
   "metadata": {},
   "outputs": [],
   "source": []
  }
 ],
 "metadata": {
  "kernelspec": {
   "display_name": "Python 3",
   "language": "python",
   "name": "python3"
  },
  "language_info": {
   "codemirror_mode": {
    "name": "ipython",
    "version": 3
   },
   "file_extension": ".py",
   "mimetype": "text/x-python",
   "name": "python",
   "nbconvert_exporter": "python",
   "pygments_lexer": "ipython3",
   "version": "3.7.4"
  }
 },
 "nbformat": 4,
 "nbformat_minor": 2
}
